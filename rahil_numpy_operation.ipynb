{
 "cells": [
  {
   "cell_type": "markdown",
   "id": "1419c2c3",
   "metadata": {},
   "source": [
    "* Rahil Sayyad\n",
    "* Email id: rahilsayyad389@gmail.com"
   ]
  },
  {
   "cell_type": "code",
   "execution_count": 4,
   "id": "2b74fbe2",
   "metadata": {},
   "outputs": [],
   "source": [
    "import numpy as np"
   ]
  },
  {
   "cell_type": "code",
   "execution_count": 7,
   "id": "d139bc98",
   "metadata": {},
   "outputs": [
    {
     "data": {
      "text/plain": [
       "array([[[1, 2, 3],\n",
       "        [4, 5, 6],\n",
       "        [7, 8, 9]]])"
      ]
     },
     "execution_count": 7,
     "metadata": {},
     "output_type": "execute_result"
    }
   ],
   "source": [
    "xy=np.array([[[1,2,3],[4,5,6],[7,8,9]]]) # create 2d array\n",
    "xy"
   ]
  },
  {
   "cell_type": "markdown",
   "id": "b6282d4a",
   "metadata": {},
   "source": [
    "## aritmatic operation"
   ]
  },
  {
   "cell_type": "code",
   "execution_count": 8,
   "id": "f167f1d3",
   "metadata": {},
   "outputs": [
    {
     "data": {
      "text/plain": [
       "array([[[ 2,  4,  6],\n",
       "        [ 8, 10, 12],\n",
       "        [14, 16, 18]]])"
      ]
     },
     "execution_count": 8,
     "metadata": {},
     "output_type": "execute_result"
    }
   ],
   "source": [
    "xy*2"
   ]
  },
  {
   "cell_type": "code",
   "execution_count": 9,
   "id": "753e3a93",
   "metadata": {},
   "outputs": [
    {
     "data": {
      "text/plain": [
       "array([[[-1,  0,  1],\n",
       "        [ 2,  3,  4],\n",
       "        [ 5,  6,  7]]])"
      ]
     },
     "execution_count": 9,
     "metadata": {},
     "output_type": "execute_result"
    }
   ],
   "source": [
    "xy-2"
   ]
  },
  {
   "cell_type": "code",
   "execution_count": 10,
   "id": "57abe3be",
   "metadata": {},
   "outputs": [
    {
     "data": {
      "text/plain": [
       "array([[[0, 0, 0],\n",
       "        [0, 0, 0],\n",
       "        [0, 0, 0]]])"
      ]
     },
     "execution_count": 10,
     "metadata": {},
     "output_type": "execute_result"
    }
   ],
   "source": [
    "xy-xy"
   ]
  },
  {
   "cell_type": "code",
   "execution_count": 11,
   "id": "a2003e61",
   "metadata": {},
   "outputs": [
    {
     "data": {
      "text/plain": [
       "array([[[0.33333333, 0.66666667, 1.        ],\n",
       "        [1.33333333, 1.66666667, 2.        ],\n",
       "        [2.33333333, 2.66666667, 3.        ]]])"
      ]
     },
     "execution_count": 11,
     "metadata": {},
     "output_type": "execute_result"
    }
   ],
   "source": [
    "xy/3"
   ]
  },
  {
   "cell_type": "code",
   "execution_count": 12,
   "id": "92490d35",
   "metadata": {},
   "outputs": [
    {
     "data": {
      "text/plain": [
       "array([[[ 2,  4,  6],\n",
       "        [ 8, 10, 12],\n",
       "        [14, 16, 18]]])"
      ]
     },
     "execution_count": 12,
     "metadata": {},
     "output_type": "execute_result"
    }
   ],
   "source": [
    "xy+xy"
   ]
  },
  {
   "cell_type": "code",
   "execution_count": 13,
   "id": "5eb8a3d8",
   "metadata": {},
   "outputs": [
    {
     "data": {
      "text/plain": [
       "array([[[ 1,  4,  9],\n",
       "        [16, 25, 36],\n",
       "        [49, 64, 81]]], dtype=int32)"
      ]
     },
     "execution_count": 13,
     "metadata": {},
     "output_type": "execute_result"
    }
   ],
   "source": [
    "xy**2"
   ]
  },
  {
   "cell_type": "code",
   "execution_count": 26,
   "id": "3a4b4cd1",
   "metadata": {},
   "outputs": [],
   "source": [
    "a=np.array([[1,2,3],[2,3,4],[4,5,1]])"
   ]
  },
  {
   "cell_type": "code",
   "execution_count": 27,
   "id": "8c8fc9a0",
   "metadata": {},
   "outputs": [
    {
     "data": {
      "text/plain": [
       "array([[1, 2, 3],\n",
       "       [2, 3, 4],\n",
       "       [4, 5, 1]])"
      ]
     },
     "execution_count": 27,
     "metadata": {},
     "output_type": "execute_result"
    }
   ],
   "source": [
    "a"
   ]
  },
  {
   "cell_type": "code",
   "execution_count": 28,
   "id": "cbd7e086",
   "metadata": {},
   "outputs": [
    {
     "data": {
      "text/plain": [
       "array([[2, 3, 4],\n",
       "       [1, 2, 3],\n",
       "       [2, 5, 1]])"
      ]
     },
     "execution_count": 28,
     "metadata": {},
     "output_type": "execute_result"
    }
   ],
   "source": [
    "b=np.array([[2,3,4],[1,2,3],[2,5,1]])\n",
    "b"
   ]
  },
  {
   "cell_type": "markdown",
   "id": "3e5a7487",
   "metadata": {},
   "source": [
    "## dot product\n",
    "* A key distinction to make with arithmetic is the case of matrix multiplication using the dot product. NumPy gives every matrix a dot() method we can use to carry-out dot product operations with other matrices:"
   ]
  },
  {
   "cell_type": "code",
   "execution_count": 29,
   "id": "346f0ce4",
   "metadata": {},
   "outputs": [
    {
     "data": {
      "text/plain": [
       "array([[10, 22, 13],\n",
       "       [15, 32, 21],\n",
       "       [15, 27, 32]])"
      ]
     },
     "execution_count": 29,
     "metadata": {},
     "output_type": "execute_result"
    }
   ],
   "source": [
    "np.dot(a,b)"
   ]
  },
  {
   "cell_type": "code",
   "execution_count": 30,
   "id": "1305abf3",
   "metadata": {},
   "outputs": [
    {
     "data": {
      "text/plain": [
       "array([[ 2,  6, 12],\n",
       "       [ 2,  6, 12],\n",
       "       [ 8, 25,  1]])"
      ]
     },
     "execution_count": 30,
     "metadata": {},
     "output_type": "execute_result"
    }
   ],
   "source": [
    "a*b # power"
   ]
  },
  {
   "cell_type": "code",
   "execution_count": 31,
   "id": "3f10b9d0",
   "metadata": {},
   "outputs": [],
   "source": [
    "s=np.sqrt(xy) #square root"
   ]
  },
  {
   "cell_type": "code",
   "execution_count": 32,
   "id": "582fcdca",
   "metadata": {},
   "outputs": [
    {
     "data": {
      "text/plain": [
       "array([[[1.        , 1.41421356, 1.73205081],\n",
       "        [2.        , 2.23606798, 2.44948974],\n",
       "        [2.64575131, 2.82842712, 3.        ]]])"
      ]
     },
     "execution_count": 32,
     "metadata": {},
     "output_type": "execute_result"
    }
   ],
   "source": [
    "s"
   ]
  },
  {
   "cell_type": "code",
   "execution_count": 33,
   "id": "ab46a315",
   "metadata": {},
   "outputs": [
    {
     "data": {
      "text/plain": [
       "9"
      ]
     },
     "execution_count": 33,
     "metadata": {},
     "output_type": "execute_result"
    }
   ],
   "source": [
    "np.max(xy)"
   ]
  },
  {
   "cell_type": "markdown",
   "id": "310043e8",
   "metadata": {},
   "source": [
    "## Trigonometric Functions"
   ]
  },
  {
   "cell_type": "code",
   "execution_count": 35,
   "id": "84fb11f0",
   "metadata": {},
   "outputs": [
    {
     "data": {
      "text/plain": [
       "array([[[ 0.84147098,  0.90929743,  0.14112001],\n",
       "        [-0.7568025 , -0.95892427, -0.2794155 ],\n",
       "        [ 0.6569866 ,  0.98935825,  0.41211849]]])"
      ]
     },
     "execution_count": 35,
     "metadata": {},
     "output_type": "execute_result"
    }
   ],
   "source": [
    "np.sin(xy)"
   ]
  },
  {
   "cell_type": "code",
   "execution_count": 36,
   "id": "29819e18",
   "metadata": {},
   "outputs": [
    {
     "data": {
      "text/plain": [
       "array([[[ 0.54030231, -0.41614684, -0.9899925 ],\n",
       "        [-0.65364362,  0.28366219,  0.96017029],\n",
       "        [ 0.75390225, -0.14550003, -0.91113026]]])"
      ]
     },
     "execution_count": 36,
     "metadata": {},
     "output_type": "execute_result"
    }
   ],
   "source": [
    "np.cos(xy)"
   ]
  },
  {
   "cell_type": "code",
   "execution_count": 37,
   "id": "d580aca8",
   "metadata": {},
   "outputs": [
    {
     "data": {
      "text/plain": [
       "array([[[ 1.55740772, -2.18503986, -0.14254654],\n",
       "        [ 1.15782128, -3.38051501, -0.29100619],\n",
       "        [ 0.87144798, -6.79971146, -0.45231566]]])"
      ]
     },
     "execution_count": 37,
     "metadata": {},
     "output_type": "execute_result"
    }
   ],
   "source": [
    "np.tan(xy)"
   ]
  },
  {
   "cell_type": "code",
   "execution_count": 38,
   "id": "8881a757",
   "metadata": {},
   "outputs": [
    {
     "name": "stdout",
     "output_type": "stream",
     "text": [
      "Original array:\n",
      "[  1.      5.55  123.      0.567  25.532]\n",
      "\n",
      "\n",
      "After rounding:\n",
      "[  1.   6. 123.   1.  26.]\n",
      "[  1.     5.55 123.     0.57  25.53]\n"
     ]
    }
   ],
   "source": [
    "z = np.array([1.0,5.55, 123, 0.567, 25.532]) \n",
    "\n",
    "print ('Original array:' )\n",
    "print (z) \n",
    "print ('\\n'  )\n",
    "\n",
    "print ('After rounding:' )\n",
    "print (np.around(z) )\n",
    "print(np.around(z, decimals = 2) )"
   ]
  },
  {
   "cell_type": "code",
   "execution_count": null,
   "id": "696d83aa",
   "metadata": {},
   "outputs": [],
   "source": []
  }
 ],
 "metadata": {
  "kernelspec": {
   "display_name": "Python 3 (ipykernel)",
   "language": "python",
   "name": "python3"
  },
  "language_info": {
   "codemirror_mode": {
    "name": "ipython",
    "version": 3
   },
   "file_extension": ".py",
   "mimetype": "text/x-python",
   "name": "python",
   "nbconvert_exporter": "python",
   "pygments_lexer": "ipython3",
   "version": "3.9.13"
  }
 },
 "nbformat": 4,
 "nbformat_minor": 5
}
