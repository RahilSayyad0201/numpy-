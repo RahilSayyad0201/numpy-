{
 "cells": [
  {
   "cell_type": "markdown",
   "id": "afa672bf",
   "metadata": {},
   "source": [
    "* Rahil Sayyad\n",
    "* Email id: rahilsayyad389@gmail.com"
   ]
  },
  {
   "cell_type": "code",
   "execution_count": 1,
   "id": "f5309afc",
   "metadata": {},
   "outputs": [],
   "source": [
    "import numpy as np"
   ]
  },
  {
   "cell_type": "code",
   "execution_count": 2,
   "id": "c3fe4ce9",
   "metadata": {},
   "outputs": [],
   "source": [
    "Rs=[1,2,3,4,5,6]"
   ]
  },
  {
   "cell_type": "code",
   "execution_count": 3,
   "id": "deb5b925",
   "metadata": {},
   "outputs": [
    {
     "data": {
      "text/plain": [
       "[1, 2, 3, 4, 5, 6]"
      ]
     },
     "execution_count": 3,
     "metadata": {},
     "output_type": "execute_result"
    }
   ],
   "source": [
    "Rs"
   ]
  },
  {
   "cell_type": "code",
   "execution_count": 4,
   "id": "398448dd",
   "metadata": {},
   "outputs": [],
   "source": [
    "Sr=np.array(Rs)"
   ]
  },
  {
   "cell_type": "code",
   "execution_count": 5,
   "id": "b078f67c",
   "metadata": {},
   "outputs": [
    {
     "data": {
      "text/plain": [
       "array([1, 2, 3, 4, 5, 6])"
      ]
     },
     "execution_count": 5,
     "metadata": {},
     "output_type": "execute_result"
    }
   ],
   "source": [
    "Sr"
   ]
  },
  {
   "cell_type": "markdown",
   "id": "f1472234",
   "metadata": {},
   "source": [
    "## access a array item using index number"
   ]
  },
  {
   "cell_type": "code",
   "execution_count": 8,
   "id": "2697608d",
   "metadata": {},
   "outputs": [
    {
     "data": {
      "text/plain": [
       "1"
      ]
     },
     "execution_count": 8,
     "metadata": {},
     "output_type": "execute_result"
    }
   ],
   "source": [
    "Sr[0]"
   ]
  },
  {
   "cell_type": "code",
   "execution_count": 9,
   "id": "11110991",
   "metadata": {},
   "outputs": [
    {
     "data": {
      "text/plain": [
       "array([2, 3, 4, 5, 6])"
      ]
     },
     "execution_count": 9,
     "metadata": {},
     "output_type": "execute_result"
    }
   ],
   "source": [
    "Sr[1:]"
   ]
  },
  {
   "cell_type": "code",
   "execution_count": 11,
   "id": "4dff717c",
   "metadata": {},
   "outputs": [
    {
     "data": {
      "text/plain": [
       "array([4, 5])"
      ]
     },
     "execution_count": 11,
     "metadata": {},
     "output_type": "execute_result"
    }
   ],
   "source": [
    "Sr[-3:-1]"
   ]
  },
  {
   "cell_type": "code",
   "execution_count": 13,
   "id": "8558d53f",
   "metadata": {},
   "outputs": [
    {
     "data": {
      "text/plain": [
       "(6,)"
      ]
     },
     "execution_count": 13,
     "metadata": {},
     "output_type": "execute_result"
    }
   ],
   "source": [
    "np.shape(Sr)"
   ]
  },
  {
   "cell_type": "code",
   "execution_count": 15,
   "id": "866b781d",
   "metadata": {},
   "outputs": [],
   "source": [
    "a=np.array([[1,2,3],[3,4,5],[6,7,8]]) # create 2d array"
   ]
  },
  {
   "cell_type": "code",
   "execution_count": 16,
   "id": "297de533",
   "metadata": {},
   "outputs": [
    {
     "data": {
      "text/plain": [
       "array([[1, 2, 3],\n",
       "       [3, 4, 5],\n",
       "       [6, 7, 8]])"
      ]
     },
     "execution_count": 16,
     "metadata": {},
     "output_type": "execute_result"
    }
   ],
   "source": [
    "a"
   ]
  },
  {
   "cell_type": "code",
   "execution_count": 17,
   "id": "74f253ee",
   "metadata": {},
   "outputs": [
    {
     "data": {
      "text/plain": [
       "array([[4, 5],\n",
       "       [7, 8]])"
      ]
     },
     "execution_count": 17,
     "metadata": {},
     "output_type": "execute_result"
    }
   ],
   "source": [
    "a[1:,1:3] # access a item using index (row, column)"
   ]
  },
  {
   "cell_type": "code",
   "execution_count": 19,
   "id": "9276425f",
   "metadata": {},
   "outputs": [
    {
     "data": {
      "text/plain": [
       "array([[3],\n",
       "       [6]])"
      ]
     },
     "execution_count": 19,
     "metadata": {},
     "output_type": "execute_result"
    }
   ],
   "source": [
    "a[1:3,0:1]"
   ]
  },
  {
   "cell_type": "code",
   "execution_count": 20,
   "id": "9e58815f",
   "metadata": {},
   "outputs": [
    {
     "data": {
      "text/plain": [
       "array([1, 2, 3])"
      ]
     },
     "execution_count": 20,
     "metadata": {},
     "output_type": "execute_result"
    }
   ],
   "source": [
    "a[0]"
   ]
  },
  {
   "cell_type": "code",
   "execution_count": 24,
   "id": "8ad691c4",
   "metadata": {},
   "outputs": [
    {
     "data": {
      "text/plain": [
       "4"
      ]
     },
     "execution_count": 24,
     "metadata": {},
     "output_type": "execute_result"
    }
   ],
   "source": [
    "a[1,1]"
   ]
  },
  {
   "cell_type": "code",
   "execution_count": 25,
   "id": "4357d9f1",
   "metadata": {},
   "outputs": [
    {
     "data": {
      "text/plain": [
       "array([ 0,  1,  2,  3,  4,  5,  6,  7,  8,  9, 10, 11, 12, 13, 14, 15, 16,\n",
       "       17, 18, 19])"
      ]
     },
     "execution_count": 25,
     "metadata": {},
     "output_type": "execute_result"
    }
   ],
   "source": [
    "b=np.arange(20) # create array in specific range\n",
    "b"
   ]
  },
  {
   "cell_type": "code",
   "execution_count": 26,
   "id": "3f8e63be",
   "metadata": {},
   "outputs": [],
   "source": [
    "c=np.arange(4,20)"
   ]
  },
  {
   "cell_type": "code",
   "execution_count": 27,
   "id": "d46617bb",
   "metadata": {},
   "outputs": [
    {
     "data": {
      "text/plain": [
       "array([ 4,  5,  6,  7,  8,  9, 10, 11, 12, 13, 14, 15, 16, 17, 18, 19])"
      ]
     },
     "execution_count": 27,
     "metadata": {},
     "output_type": "execute_result"
    }
   ],
   "source": [
    "c"
   ]
  },
  {
   "cell_type": "code",
   "execution_count": 28,
   "id": "f6b63431",
   "metadata": {},
   "outputs": [],
   "source": [
    "d=np.arange(3,20,2)"
   ]
  },
  {
   "cell_type": "code",
   "execution_count": 29,
   "id": "08a72969",
   "metadata": {},
   "outputs": [
    {
     "data": {
      "text/plain": [
       "array([ 3,  5,  7,  9, 11, 13, 15, 17, 19])"
      ]
     },
     "execution_count": 29,
     "metadata": {},
     "output_type": "execute_result"
    }
   ],
   "source": [
    "d"
   ]
  },
  {
   "cell_type": "code",
   "execution_count": 30,
   "id": "cfd8690d",
   "metadata": {},
   "outputs": [
    {
     "data": {
      "text/plain": [
       "array([[ 0,  1,  2,  3],\n",
       "       [ 4,  5,  6,  7],\n",
       "       [ 8,  9, 10, 11],\n",
       "       [12, 13, 14, 15],\n",
       "       [16, 17, 18, 19]])"
      ]
     },
     "execution_count": 30,
     "metadata": {},
     "output_type": "execute_result"
    }
   ],
   "source": [
    "b.reshape(5,4)"
   ]
  },
  {
   "cell_type": "code",
   "execution_count": 34,
   "id": "33aca02a",
   "metadata": {},
   "outputs": [
    {
     "data": {
      "text/plain": [
       "array([[1., 1., 1.],\n",
       "       [1., 1., 1.],\n",
       "       [1., 1., 1.],\n",
       "       [1., 1., 1.],\n",
       "       [1., 1., 1.]])"
      ]
     },
     "execution_count": 34,
     "metadata": {},
     "output_type": "execute_result"
    }
   ],
   "source": [
    "np.ones((5,3))"
   ]
  },
  {
   "cell_type": "code",
   "execution_count": 32,
   "id": "e16c627a",
   "metadata": {},
   "outputs": [
    {
     "data": {
      "text/plain": [
       "array([[0., 0., 0.],\n",
       "       [0., 0., 0.]])"
      ]
     },
     "execution_count": 32,
     "metadata": {},
     "output_type": "execute_result"
    }
   ],
   "source": [
    "np.zeros((2,3))#create zeros number of array"
   ]
  },
  {
   "cell_type": "code",
   "execution_count": 35,
   "id": "b2d0d53e",
   "metadata": {},
   "outputs": [
    {
     "data": {
      "text/plain": [
       "array([ 2.,  4.,  6.,  8., 10.])"
      ]
     },
     "execution_count": 35,
     "metadata": {},
     "output_type": "execute_result"
    }
   ],
   "source": [
    "np.linspace(2,10,5)# linespace is used to create eual no of array"
   ]
  },
  {
   "cell_type": "code",
   "execution_count": 37,
   "id": "fd292290",
   "metadata": {},
   "outputs": [
    {
     "data": {
      "text/plain": [
       "array([0.        , 0.11111111, 0.22222222, 0.33333333, 0.44444444,\n",
       "       0.55555556, 0.66666667, 0.77777778, 0.88888889, 1.        ])"
      ]
     },
     "execution_count": 37,
     "metadata": {},
     "output_type": "execute_result"
    }
   ],
   "source": [
    "np.linspace(0,1,10)"
   ]
  },
  {
   "cell_type": "code",
   "execution_count": 38,
   "id": "0009d351",
   "metadata": {},
   "outputs": [
    {
     "data": {
      "text/plain": [
       "array([[1., 0., 0.],\n",
       "       [0., 1., 0.],\n",
       "       [0., 0., 1.]])"
      ]
     },
     "execution_count": 38,
     "metadata": {},
     "output_type": "execute_result"
    }
   ],
   "source": [
    "np.identity(3) # create indentity matrix"
   ]
  },
  {
   "cell_type": "code",
   "execution_count": 39,
   "id": "ca5aa95e",
   "metadata": {},
   "outputs": [],
   "source": [
    "x=np.random.rand(10) # create a uniform distribution random no of array"
   ]
  },
  {
   "cell_type": "code",
   "execution_count": 40,
   "id": "5e4f3cd6",
   "metadata": {},
   "outputs": [
    {
     "data": {
      "text/plain": [
       "array([0.0147006 , 0.37867747, 0.20657916, 0.10956546, 0.51728696,\n",
       "       0.97242735, 0.22458182, 0.92534584, 0.34451196, 0.63781692])"
      ]
     },
     "execution_count": 40,
     "metadata": {},
     "output_type": "execute_result"
    }
   ],
   "source": [
    "x"
   ]
  },
  {
   "cell_type": "code",
   "execution_count": 41,
   "id": "92519369",
   "metadata": {},
   "outputs": [
    {
     "data": {
      "text/plain": [
       "array([[0.95412144, 0.00989351, 0.83918119, 0.64800524, 0.96340097,\n",
       "        0.83095145, 0.7336203 , 0.98654991, 0.58151025, 0.87034131],\n",
       "       [0.25595129, 0.46093882, 0.01302653, 0.14767632, 0.55283638,\n",
       "        0.9020085 , 0.11710301, 0.46641658, 0.04362288, 0.97105117]])"
      ]
     },
     "execution_count": 41,
     "metadata": {},
     "output_type": "execute_result"
    }
   ],
   "source": [
    "np.random.rand(2,10)"
   ]
  },
  {
   "cell_type": "code",
   "execution_count": 42,
   "id": "b8e923da",
   "metadata": {},
   "outputs": [
    {
     "data": {
      "text/plain": [
       "array([[[0.02994143, 0.90881134, 0.70890042],\n",
       "        [0.09829782, 0.12141572, 0.99598223],\n",
       "        [0.34254279, 0.89481342, 0.71108208],\n",
       "        [0.59321856, 0.34381784, 0.64781477],\n",
       "        [0.33756009, 0.62419844, 0.15568541]],\n",
       "\n",
       "       [[0.60939029, 0.28383152, 0.60881273],\n",
       "        [0.25275192, 0.38083572, 0.19884404],\n",
       "        [0.32663151, 0.21221261, 0.10681351],\n",
       "        [0.13421971, 0.76668939, 0.30681355],\n",
       "        [0.53579726, 0.03559339, 0.6038281 ]]])"
      ]
     },
     "execution_count": 42,
     "metadata": {},
     "output_type": "execute_result"
    }
   ],
   "source": [
    "np.random.rand(2,5,3)"
   ]
  },
  {
   "cell_type": "code",
   "execution_count": 43,
   "id": "1d463b99",
   "metadata": {},
   "outputs": [
    {
     "data": {
      "text/plain": [
       "array([-0.60646752,  0.74536522, -1.31303468,  0.01215623,  0.27222538,\n",
       "       -0.43176381,  0.27751181,  1.09964561, -0.08540097,  0.32984424,\n",
       "        0.51305147, -0.56796344,  0.75716521,  0.20501633,  0.81069942,\n",
       "        0.03579167,  1.16986674, -0.70400728, -0.74626115, -1.17700914])"
      ]
     },
     "execution_count": 43,
     "metadata": {},
     "output_type": "execute_result"
    }
   ],
   "source": [
    "np.random.randn(20) # create a standard distribution random no of array"
   ]
  },
  {
   "cell_type": "code",
   "execution_count": 46,
   "id": "d385a116",
   "metadata": {},
   "outputs": [
    {
     "data": {
      "text/plain": [
       "array([[ 1.82568592, -0.56815818,  0.00743275,  0.55278325],\n",
       "       [ 1.09541659, -0.95222708,  1.11516481,  0.30855915],\n",
       "       [ 0.66901834, -0.34725425,  1.20181896, -1.06911044]])"
      ]
     },
     "execution_count": 46,
     "metadata": {},
     "output_type": "execute_result"
    }
   ],
   "source": [
    "np.random.randn(3,4)"
   ]
  },
  {
   "cell_type": "code",
   "execution_count": 48,
   "id": "dfef349c",
   "metadata": {},
   "outputs": [
    {
     "data": {
      "text/plain": [
       "array([[[-0.1712563 , -0.79710005],\n",
       "        [ 0.6345677 ,  1.71135913],\n",
       "        [-1.76731286, -0.16117617],\n",
       "        [-0.00795992, -0.73648775]],\n",
       "\n",
       "       [[-0.11251892,  0.25504597],\n",
       "        [ 0.20715869, -2.13732172],\n",
       "        [-1.41802736,  0.38071594],\n",
       "        [ 0.81928915,  0.2169411 ]],\n",
       "\n",
       "       [[ 0.70209005, -1.15648278],\n",
       "        [ 1.03409762, -1.15897749],\n",
       "        [ 1.7909548 , -0.23305412],\n",
       "        [ 1.33552535,  1.34577556]]])"
      ]
     },
     "execution_count": 48,
     "metadata": {},
     "output_type": "execute_result"
    }
   ],
   "source": [
    "np.random.randn(3,4,2)"
   ]
  },
  {
   "cell_type": "code",
   "execution_count": 4,
   "id": "b0a09aea",
   "metadata": {},
   "outputs": [
    {
     "data": {
      "text/plain": [
       "7"
      ]
     },
     "execution_count": 4,
     "metadata": {},
     "output_type": "execute_result"
    }
   ],
   "source": [
    "np.random.randint(29) # create a int random no of array"
   ]
  },
  {
   "cell_type": "code",
   "execution_count": 52,
   "id": "536b0d03",
   "metadata": {},
   "outputs": [
    {
     "data": {
      "text/plain": [
       "7"
      ]
     },
     "execution_count": 52,
     "metadata": {},
     "output_type": "execute_result"
    }
   ],
   "source": [
    "np.random.randint(5,10)"
   ]
  },
  {
   "cell_type": "code",
   "execution_count": 54,
   "id": "4d6e6633",
   "metadata": {},
   "outputs": [],
   "source": [
    "y=np.random.randint(5,10,20)"
   ]
  },
  {
   "cell_type": "code",
   "execution_count": 55,
   "id": "9a8b192c",
   "metadata": {},
   "outputs": [
    {
     "data": {
      "text/plain": [
       "array([9, 6, 8, 5, 7, 8, 7, 7, 8, 9, 7, 6, 6, 7, 6, 7, 7, 8, 7, 5])"
      ]
     },
     "execution_count": 55,
     "metadata": {},
     "output_type": "execute_result"
    }
   ],
   "source": [
    "y"
   ]
  },
  {
   "cell_type": "code",
   "execution_count": 56,
   "id": "567f4151",
   "metadata": {},
   "outputs": [
    {
     "data": {
      "text/plain": [
       "array([[9, 6, 8, 5],\n",
       "       [7, 8, 7, 7],\n",
       "       [8, 9, 7, 6],\n",
       "       [6, 7, 6, 7],\n",
       "       [7, 8, 7, 5]])"
      ]
     },
     "execution_count": 56,
     "metadata": {},
     "output_type": "execute_result"
    }
   ],
   "source": [
    "y.reshape(5,4)"
   ]
  },
  {
   "cell_type": "markdown",
   "id": "f5081e60",
   "metadata": {},
   "source": [
    "## agrigate function"
   ]
  },
  {
   "cell_type": "code",
   "execution_count": 57,
   "id": "713df115",
   "metadata": {},
   "outputs": [
    {
     "data": {
      "text/plain": [
       "9"
      ]
     },
     "execution_count": 57,
     "metadata": {},
     "output_type": "execute_result"
    }
   ],
   "source": [
    "y.max()"
   ]
  },
  {
   "cell_type": "code",
   "execution_count": 58,
   "id": "f199427c",
   "metadata": {},
   "outputs": [
    {
     "data": {
      "text/plain": [
       "5"
      ]
     },
     "execution_count": 58,
     "metadata": {},
     "output_type": "execute_result"
    }
   ],
   "source": [
    "y.min()"
   ]
  },
  {
   "cell_type": "code",
   "execution_count": 59,
   "id": "6975c4c2",
   "metadata": {},
   "outputs": [
    {
     "data": {
      "text/plain": [
       "0"
      ]
     },
     "execution_count": 59,
     "metadata": {},
     "output_type": "execute_result"
    }
   ],
   "source": [
    "y.argmax()"
   ]
  },
  {
   "cell_type": "code",
   "execution_count": 60,
   "id": "9723a8b8",
   "metadata": {},
   "outputs": [
    {
     "data": {
      "text/plain": [
       "3"
      ]
     },
     "execution_count": 60,
     "metadata": {},
     "output_type": "execute_result"
    }
   ],
   "source": [
    "y.argmin()"
   ]
  },
  {
   "cell_type": "code",
   "execution_count": 61,
   "id": "880e1451",
   "metadata": {},
   "outputs": [
    {
     "data": {
      "text/plain": [
       "140"
      ]
     },
     "execution_count": 61,
     "metadata": {},
     "output_type": "execute_result"
    }
   ],
   "source": [
    "y.sum()"
   ]
  },
  {
   "cell_type": "code",
   "execution_count": 63,
   "id": "1487b6c5",
   "metadata": {},
   "outputs": [],
   "source": [
    "z=np.arange(20)"
   ]
  },
  {
   "cell_type": "markdown",
   "id": "61fa12df",
   "metadata": {},
   "source": [
    "## conditional selection"
   ]
  },
  {
   "cell_type": "code",
   "execution_count": 64,
   "id": "31a0968f",
   "metadata": {},
   "outputs": [
    {
     "data": {
      "text/plain": [
       "array([ 0,  1,  2,  3,  4,  5,  6,  7,  8,  9, 10, 11, 12, 13, 14, 15, 16,\n",
       "       17, 18, 19])"
      ]
     },
     "execution_count": 64,
     "metadata": {},
     "output_type": "execute_result"
    }
   ],
   "source": [
    "z"
   ]
  },
  {
   "cell_type": "code",
   "execution_count": 67,
   "id": "0917bd1c",
   "metadata": {},
   "outputs": [],
   "source": [
    "r=z>16"
   ]
  },
  {
   "cell_type": "code",
   "execution_count": 68,
   "id": "a179b680",
   "metadata": {},
   "outputs": [
    {
     "data": {
      "text/plain": [
       "array([False, False, False, False, False, False, False, False, False,\n",
       "       False, False, False, False, False, False, False, False,  True,\n",
       "        True,  True])"
      ]
     },
     "execution_count": 68,
     "metadata": {},
     "output_type": "execute_result"
    }
   ],
   "source": [
    "r"
   ]
  },
  {
   "cell_type": "code",
   "execution_count": 70,
   "id": "aa3a1940",
   "metadata": {},
   "outputs": [
    {
     "data": {
      "text/plain": [
       "array([17, 18, 19])"
      ]
     },
     "execution_count": 70,
     "metadata": {},
     "output_type": "execute_result"
    }
   ],
   "source": [
    "z[r]"
   ]
  },
  {
   "cell_type": "code",
   "execution_count": 66,
   "id": "86f67978",
   "metadata": {},
   "outputs": [
    {
     "data": {
      "text/plain": [
       "array([17, 18, 19])"
      ]
     },
     "execution_count": 66,
     "metadata": {},
     "output_type": "execute_result"
    }
   ],
   "source": [
    "z[z>16]"
   ]
  },
  {
   "cell_type": "code",
   "execution_count": 71,
   "id": "aacc89f0",
   "metadata": {},
   "outputs": [
    {
     "data": {
      "text/plain": [
       "array([14, 15, 16, 17, 18, 19])"
      ]
     },
     "execution_count": 71,
     "metadata": {},
     "output_type": "execute_result"
    }
   ],
   "source": [
    "m=13\n",
    "z[z>m]"
   ]
  },
  {
   "cell_type": "code",
   "execution_count": 8,
   "id": "2b2b9b82",
   "metadata": {},
   "outputs": [],
   "source": [
    "L1=[[\"rahil\",\"sohel\",\"sarthak\"],[\"rutik\",\"raj\",\"sim\"]]"
   ]
  },
  {
   "cell_type": "code",
   "execution_count": 9,
   "id": "77b8eb41",
   "metadata": {},
   "outputs": [
    {
     "data": {
      "text/plain": [
       "[['rahil', 'sohel', 'sarthak'], ['rutik', 'raj', 'sim']]"
      ]
     },
     "execution_count": 9,
     "metadata": {},
     "output_type": "execute_result"
    }
   ],
   "source": [
    "L1\n"
   ]
  },
  {
   "cell_type": "code",
   "execution_count": 10,
   "id": "f1851099",
   "metadata": {},
   "outputs": [],
   "source": [
    "Rs=np.array(L1)"
   ]
  },
  {
   "cell_type": "code",
   "execution_count": 11,
   "id": "0e1acfcd",
   "metadata": {},
   "outputs": [
    {
     "data": {
      "text/plain": [
       "array([['rahil', 'sohel', 'sarthak'],\n",
       "       ['rutik', 'raj', 'sim']], dtype='<U7')"
      ]
     },
     "execution_count": 11,
     "metadata": {},
     "output_type": "execute_result"
    }
   ],
   "source": [
    "Rs"
   ]
  },
  {
   "cell_type": "code",
   "execution_count": null,
   "id": "581e3ab2",
   "metadata": {},
   "outputs": [],
   "source": []
  },
  {
   "cell_type": "code",
   "execution_count": 12,
   "id": "9c8aa79b",
   "metadata": {},
   "outputs": [
    {
     "data": {
      "text/plain": [
       "'rahil'"
      ]
     },
     "execution_count": 12,
     "metadata": {},
     "output_type": "execute_result"
    }
   ],
   "source": [
    "Rs[0,0]"
   ]
  },
  {
   "cell_type": "code",
   "execution_count": 13,
   "id": "b6bd6766",
   "metadata": {},
   "outputs": [
    {
     "data": {
      "text/plain": [
       "'sohel'"
      ]
     },
     "execution_count": 13,
     "metadata": {},
     "output_type": "execute_result"
    }
   ],
   "source": [
    "Rs[0,1]"
   ]
  },
  {
   "cell_type": "code",
   "execution_count": 14,
   "id": "8cda020f",
   "metadata": {},
   "outputs": [
    {
     "data": {
      "text/plain": [
       "array([['rahil', 'sohel'],\n",
       "       ['rutik', 'raj']], dtype='<U7')"
      ]
     },
     "execution_count": 14,
     "metadata": {},
     "output_type": "execute_result"
    }
   ],
   "source": [
    "Rs[0:,0:2]"
   ]
  },
  {
   "cell_type": "code",
   "execution_count": null,
   "id": "e1773421",
   "metadata": {},
   "outputs": [],
   "source": []
  },
  {
   "cell_type": "code",
   "execution_count": 15,
   "id": "3700cd67",
   "metadata": {},
   "outputs": [
    {
     "data": {
      "text/plain": [
       "array([ 0,  1,  2,  3,  4,  5,  6,  7,  8,  9, 10, 11])"
      ]
     },
     "execution_count": 15,
     "metadata": {},
     "output_type": "execute_result"
    }
   ],
   "source": [
    "np.arange(12)"
   ]
  },
  {
   "cell_type": "code",
   "execution_count": 16,
   "id": "5b6df326",
   "metadata": {},
   "outputs": [
    {
     "data": {
      "text/plain": [
       "array([ 9, 10, 11])"
      ]
     },
     "execution_count": 16,
     "metadata": {},
     "output_type": "execute_result"
    }
   ],
   "source": [
    "np.arange(9,12)"
   ]
  },
  {
   "cell_type": "code",
   "execution_count": 17,
   "id": "bad493f6",
   "metadata": {},
   "outputs": [
    {
     "data": {
      "text/plain": [
       "array([ 2,  4,  6,  8, 10])"
      ]
     },
     "execution_count": 17,
     "metadata": {},
     "output_type": "execute_result"
    }
   ],
   "source": [
    "np.arange(2,12,2)"
   ]
  },
  {
   "cell_type": "code",
   "execution_count": 18,
   "id": "5aac1b06",
   "metadata": {},
   "outputs": [
    {
     "data": {
      "text/plain": [
       "array([0.54760995, 0.31387752, 0.0561153 , 0.37743675, 0.45025026,\n",
       "       0.62441761, 0.6727553 , 0.58365733, 0.52171696, 0.98166098,\n",
       "       0.19010695, 0.7508978 , 0.96941694])"
      ]
     },
     "execution_count": 18,
     "metadata": {},
     "output_type": "execute_result"
    }
   ],
   "source": [
    "np.random.rand(13)"
   ]
  },
  {
   "cell_type": "code",
   "execution_count": 19,
   "id": "0c653fe6",
   "metadata": {},
   "outputs": [
    {
     "data": {
      "text/plain": [
       "array([[0.79811253, 0.66867195, 0.17134296, 0.93834461, 0.95494563,\n",
       "        0.26495172, 0.55224393, 0.08371321, 0.14806297, 0.35682403,\n",
       "        0.2159096 , 0.29453006, 0.48446207],\n",
       "       [0.25548501, 0.36866814, 0.96213755, 0.47913925, 0.62399211,\n",
       "        0.87821223, 0.96111186, 0.55149712, 0.25631898, 0.08332308,\n",
       "        0.89270075, 0.6119881 , 0.47336936]])"
      ]
     },
     "execution_count": 19,
     "metadata": {},
     "output_type": "execute_result"
    }
   ],
   "source": [
    "np.random.rand(2,13)"
   ]
  },
  {
   "cell_type": "code",
   "execution_count": 20,
   "id": "0e357d07",
   "metadata": {},
   "outputs": [
    {
     "data": {
      "text/plain": [
       "array([[[0.22679782, 0.76499007, 0.39958476],\n",
       "        [0.8526897 , 0.26151338, 0.40388493],\n",
       "        [0.83303103, 0.32868304, 0.66594192],\n",
       "        [0.74224979, 0.74430894, 0.48595369],\n",
       "        [0.88159114, 0.19885658, 0.26344815],\n",
       "        [0.47209051, 0.50845124, 0.59201273],\n",
       "        [0.57083397, 0.47622894, 0.28222759],\n",
       "        [0.61214616, 0.68792568, 0.11909836],\n",
       "        [0.39858819, 0.36653874, 0.57365292],\n",
       "        [0.39775819, 0.07705543, 0.80381715],\n",
       "        [0.79161546, 0.68674521, 0.39842074],\n",
       "        [0.88497669, 0.36119146, 0.21030649],\n",
       "        [0.56132321, 0.30469122, 0.37610825]],\n",
       "\n",
       "       [[0.99869573, 0.45386667, 0.04810167],\n",
       "        [0.27165891, 0.30618484, 0.31067295],\n",
       "        [0.2490511 , 0.80365911, 0.1863391 ],\n",
       "        [0.25383167, 0.49292786, 0.03811992],\n",
       "        [0.88091219, 0.17917897, 0.65963298],\n",
       "        [0.37505681, 0.14524537, 0.54386801],\n",
       "        [0.23141733, 0.78456809, 0.05852261],\n",
       "        [0.45243052, 0.79995082, 0.8424961 ],\n",
       "        [0.36345983, 0.24001759, 0.73626986],\n",
       "        [0.53579633, 0.85881981, 0.31950224],\n",
       "        [0.04217508, 0.39432148, 0.61502599],\n",
       "        [0.31593178, 0.61612049, 0.59114868],\n",
       "        [0.44057251, 0.53317011, 0.05783712]]])"
      ]
     },
     "execution_count": 20,
     "metadata": {},
     "output_type": "execute_result"
    }
   ],
   "source": [
    "np.random.rand(2,13,3)"
   ]
  },
  {
   "cell_type": "code",
   "execution_count": 22,
   "id": "3a17e1be",
   "metadata": {},
   "outputs": [
    {
     "data": {
      "text/plain": [
       "array([-0.43835222,  0.48186368, -0.1071836 , -0.51419829, -0.5557761 ,\n",
       "        0.19332425,  1.07094958,  0.3265322 , -2.34620574,  0.04045535,\n",
       "       -0.33580215, -1.08367518,  0.50238581,  0.11303606,  0.39428094])"
      ]
     },
     "execution_count": 22,
     "metadata": {},
     "output_type": "execute_result"
    }
   ],
   "source": [
    "np.random.randn(15)"
   ]
  },
  {
   "cell_type": "code",
   "execution_count": 23,
   "id": "3d0d3e35",
   "metadata": {},
   "outputs": [
    {
     "data": {
      "text/plain": [
       "array([[0.61686767, 0.4325696 , 0.32559606, 0.96309233, 0.05509306,\n",
       "        0.3978035 , 0.37661386, 0.69387106, 0.51438835, 0.23212905,\n",
       "        0.831119  , 0.86904137, 0.57900854],\n",
       "       [0.32261601, 0.56229076, 0.65693484, 0.88850344, 0.0931242 ,\n",
       "        0.52451913, 0.55851676, 0.30202101, 0.39550689, 0.22342949,\n",
       "        0.08206264, 0.52886631, 0.02818626]])"
      ]
     },
     "execution_count": 23,
     "metadata": {},
     "output_type": "execute_result"
    }
   ],
   "source": [
    "np.random.rand(2,13)"
   ]
  },
  {
   "cell_type": "code",
   "execution_count": 24,
   "id": "e9dbed3e",
   "metadata": {},
   "outputs": [
    {
     "data": {
      "text/plain": [
       "array([[[0.13947365, 0.4870379 , 0.91748639, 0.12123581],\n",
       "        [0.8818847 , 0.73923787, 0.08370519, 0.98873458],\n",
       "        [0.65243829, 0.10215973, 0.55993007, 0.13813027],\n",
       "        [0.95613816, 0.69711119, 0.63615299, 0.25353876],\n",
       "        [0.76034715, 0.85149375, 0.89390435, 0.84831848],\n",
       "        [0.81880181, 0.20153573, 0.59934387, 0.47812949],\n",
       "        [0.24589601, 0.77713162, 0.59660969, 0.17752679],\n",
       "        [0.09531231, 0.74188846, 0.93238163, 0.30509072],\n",
       "        [0.75247992, 0.41199013, 0.24014361, 0.14812467],\n",
       "        [0.43911441, 0.59269422, 0.85954483, 0.78303844],\n",
       "        [0.99336178, 0.32884478, 0.40218699, 0.97962039],\n",
       "        [0.89724687, 0.26946401, 0.40034275, 0.88557436],\n",
       "        [0.52693796, 0.70785201, 0.15381533, 0.62452201],\n",
       "        [0.88301808, 0.8316397 , 0.20597998, 0.03553052]],\n",
       "\n",
       "       [[0.83803058, 0.93974716, 0.39890121, 0.96224412],\n",
       "        [0.71950415, 0.40645547, 0.17250155, 0.63506013],\n",
       "        [0.43244529, 0.10672967, 0.31555569, 0.9246198 ],\n",
       "        [0.02747682, 0.25889529, 0.04266851, 0.46489701],\n",
       "        [0.62068027, 0.30351332, 0.9043984 , 0.71789064],\n",
       "        [0.69956386, 0.74257351, 0.82694431, 0.87465134],\n",
       "        [0.23585811, 0.71522458, 0.88085591, 0.08350619],\n",
       "        [0.84950993, 0.88762534, 0.54999919, 0.34677411],\n",
       "        [0.21985583, 0.28218206, 0.19806875, 0.802047  ],\n",
       "        [0.65376047, 0.41026262, 0.58815987, 0.79406081],\n",
       "        [0.92604518, 0.74287061, 0.45920428, 0.59645342],\n",
       "        [0.20465951, 0.88228705, 0.29081771, 0.05565274],\n",
       "        [0.46445809, 0.86909573, 0.14518414, 0.68815421],\n",
       "        [0.05404118, 0.84505947, 0.39093184, 0.59283341]],\n",
       "\n",
       "       [[0.95624449, 0.01089018, 0.6365344 , 0.84947683],\n",
       "        [0.99539664, 0.68711777, 0.6486545 , 0.06407016],\n",
       "        [0.25086664, 0.62661826, 0.35697599, 0.21057217],\n",
       "        [0.88034075, 0.19339195, 0.86226638, 0.78535494],\n",
       "        [0.86856588, 0.07069595, 0.83930592, 0.93163348],\n",
       "        [0.45018434, 0.18185018, 0.16245362, 0.41215255],\n",
       "        [0.17151726, 0.37934569, 0.18219898, 0.64270785],\n",
       "        [0.28626139, 0.84669886, 0.75172383, 0.39678545],\n",
       "        [0.20588839, 0.81043769, 0.89176633, 0.05019051],\n",
       "        [0.09557095, 0.34843284, 0.26282266, 0.76317208],\n",
       "        [0.76111003, 0.84770089, 0.75997776, 0.49526509],\n",
       "        [0.54297849, 0.04902313, 0.73280397, 0.77473607],\n",
       "        [0.8482615 , 0.0163226 , 0.86699869, 0.14786728],\n",
       "        [0.4964332 , 0.30264262, 0.75587743, 0.03895238]]])"
      ]
     },
     "execution_count": 24,
     "metadata": {},
     "output_type": "execute_result"
    }
   ],
   "source": [
    "np.random.rand(3,14,4)"
   ]
  },
  {
   "cell_type": "code",
   "execution_count": 25,
   "id": "49fdda75",
   "metadata": {},
   "outputs": [
    {
     "data": {
      "text/plain": [
       "array([1., 1., 1., 1., 1.])"
      ]
     },
     "execution_count": 25,
     "metadata": {},
     "output_type": "execute_result"
    }
   ],
   "source": [
    "np.ones(5)"
   ]
  },
  {
   "cell_type": "code",
   "execution_count": 26,
   "id": "bd97fcf0",
   "metadata": {},
   "outputs": [
    {
     "data": {
      "text/plain": [
       "array([[1., 1., 1., 1., 1.],\n",
       "       [1., 1., 1., 1., 1.]])"
      ]
     },
     "execution_count": 26,
     "metadata": {},
     "output_type": "execute_result"
    }
   ],
   "source": [
    "np.ones((2,5))"
   ]
  },
  {
   "cell_type": "code",
   "execution_count": 27,
   "id": "b76dd9e9",
   "metadata": {},
   "outputs": [
    {
     "data": {
      "text/plain": [
       "array([0., 0., 0., 0.])"
      ]
     },
     "execution_count": 27,
     "metadata": {},
     "output_type": "execute_result"
    }
   ],
   "source": [
    "np.zeros(4)"
   ]
  },
  {
   "cell_type": "code",
   "execution_count": 28,
   "id": "89d3a543",
   "metadata": {},
   "outputs": [
    {
     "data": {
      "text/plain": [
       "array([[0., 0., 0., 0., 0.],\n",
       "       [0., 0., 0., 0., 0.]])"
      ]
     },
     "execution_count": 28,
     "metadata": {},
     "output_type": "execute_result"
    }
   ],
   "source": [
    "np.zeros((2,5))"
   ]
  },
  {
   "cell_type": "code",
   "execution_count": 31,
   "id": "af587426",
   "metadata": {},
   "outputs": [
    {
     "data": {
      "text/plain": [
       "array([ 2. , 11.6, 21.2, 30.8, 40.4, 50. ])"
      ]
     },
     "execution_count": 31,
     "metadata": {},
     "output_type": "execute_result"
    }
   ],
   "source": [
    "np.linspace(2,50,6)"
   ]
  },
  {
   "cell_type": "code",
   "execution_count": 32,
   "id": "1517e2bf",
   "metadata": {},
   "outputs": [
    {
     "data": {
      "text/plain": [
       "array([[1., 0., 0., 0.],\n",
       "       [0., 1., 0., 0.],\n",
       "       [0., 0., 1., 0.],\n",
       "       [0., 0., 0., 1.]])"
      ]
     },
     "execution_count": 32,
     "metadata": {},
     "output_type": "execute_result"
    }
   ],
   "source": [
    "np.identity(4)"
   ]
  },
  {
   "cell_type": "code",
   "execution_count": 33,
   "id": "82744ed7",
   "metadata": {},
   "outputs": [
    {
     "data": {
      "text/plain": [
       "1"
      ]
     },
     "execution_count": 33,
     "metadata": {},
     "output_type": "execute_result"
    }
   ],
   "source": [
    "np.random.randint(5)"
   ]
  },
  {
   "cell_type": "code",
   "execution_count": 34,
   "id": "0f07b3dc",
   "metadata": {},
   "outputs": [
    {
     "data": {
      "text/plain": [
       "3"
      ]
     },
     "execution_count": 34,
     "metadata": {},
     "output_type": "execute_result"
    }
   ],
   "source": [
    "np.random.randint(2,5)"
   ]
  },
  {
   "cell_type": "code",
   "execution_count": 48,
   "id": "a97d3367",
   "metadata": {},
   "outputs": [
    {
     "data": {
      "text/plain": [
       "array([4, 2, 3, 0, 4, 3])"
      ]
     },
     "execution_count": 48,
     "metadata": {},
     "output_type": "execute_result"
    }
   ],
   "source": [
    "np.random.randint(0,5,6)"
   ]
  },
  {
   "cell_type": "code",
   "execution_count": null,
   "id": "5c853afb",
   "metadata": {},
   "outputs": [],
   "source": []
  },
  {
   "cell_type": "code",
   "execution_count": 52,
   "id": "8a0e8d99",
   "metadata": {},
   "outputs": [
    {
     "data": {
      "text/plain": [
       "array([ 0,  1,  2,  3,  4,  5,  6,  7,  8,  9, 10, 11, 12, 13, 14, 15, 16,\n",
       "       17, 18, 19, 20, 21, 22, 23, 24, 25, 26, 27, 28, 29, 30, 31, 32, 33,\n",
       "       34, 35, 36, 37, 38, 39, 40, 41, 42, 43, 44, 45, 46, 47, 48, 49])"
      ]
     },
     "execution_count": 52,
     "metadata": {},
     "output_type": "execute_result"
    }
   ],
   "source": [
    "x=np.arange(50)\n",
    "x"
   ]
  },
  {
   "cell_type": "code",
   "execution_count": 53,
   "id": "52beda5f",
   "metadata": {},
   "outputs": [
    {
     "data": {
      "text/plain": [
       "array([[ 0,  1,  2,  3,  4],\n",
       "       [ 5,  6,  7,  8,  9],\n",
       "       [10, 11, 12, 13, 14],\n",
       "       [15, 16, 17, 18, 19],\n",
       "       [20, 21, 22, 23, 24],\n",
       "       [25, 26, 27, 28, 29],\n",
       "       [30, 31, 32, 33, 34],\n",
       "       [35, 36, 37, 38, 39],\n",
       "       [40, 41, 42, 43, 44],\n",
       "       [45, 46, 47, 48, 49]])"
      ]
     },
     "execution_count": 53,
     "metadata": {},
     "output_type": "execute_result"
    }
   ],
   "source": [
    "x.reshape(10,5)"
   ]
  },
  {
   "cell_type": "code",
   "execution_count": 54,
   "id": "954dab92",
   "metadata": {},
   "outputs": [
    {
     "data": {
      "text/plain": [
       "49"
      ]
     },
     "execution_count": 54,
     "metadata": {},
     "output_type": "execute_result"
    }
   ],
   "source": [
    "x.max()"
   ]
  },
  {
   "cell_type": "code",
   "execution_count": 55,
   "id": "609c1201",
   "metadata": {},
   "outputs": [
    {
     "data": {
      "text/plain": [
       "0"
      ]
     },
     "execution_count": 55,
     "metadata": {},
     "output_type": "execute_result"
    }
   ],
   "source": [
    "x.min()"
   ]
  },
  {
   "cell_type": "code",
   "execution_count": 56,
   "id": "b1e7ca45",
   "metadata": {},
   "outputs": [
    {
     "data": {
      "text/plain": [
       "49"
      ]
     },
     "execution_count": 56,
     "metadata": {},
     "output_type": "execute_result"
    }
   ],
   "source": [
    "x.argmax()"
   ]
  },
  {
   "cell_type": "code",
   "execution_count": 57,
   "id": "b3bf9858",
   "metadata": {},
   "outputs": [
    {
     "data": {
      "text/plain": [
       "49"
      ]
     },
     "execution_count": 57,
     "metadata": {},
     "output_type": "execute_result"
    }
   ],
   "source": [
    "x[-1]"
   ]
  },
  {
   "cell_type": "code",
   "execution_count": 58,
   "id": "cb3bb4ec",
   "metadata": {},
   "outputs": [
    {
     "data": {
      "text/plain": [
       "20"
      ]
     },
     "execution_count": 58,
     "metadata": {},
     "output_type": "execute_result"
    }
   ],
   "source": [
    "x[20]"
   ]
  },
  {
   "cell_type": "code",
   "execution_count": 59,
   "id": "e5c66a5b",
   "metadata": {},
   "outputs": [
    {
     "data": {
      "text/plain": [
       "array([0, 1, 2, 3, 4])"
      ]
     },
     "execution_count": 59,
     "metadata": {},
     "output_type": "execute_result"
    }
   ],
   "source": [
    "x[0:5]"
   ]
  },
  {
   "cell_type": "code",
   "execution_count": 60,
   "id": "1d68acf0",
   "metadata": {},
   "outputs": [
    {
     "data": {
      "text/plain": [
       "array([43, 44, 45, 46, 47, 48])"
      ]
     },
     "execution_count": 60,
     "metadata": {},
     "output_type": "execute_result"
    }
   ],
   "source": [
    "x[-7:-1]"
   ]
  },
  {
   "cell_type": "code",
   "execution_count": 65,
   "id": "2d4fb812",
   "metadata": {},
   "outputs": [],
   "source": [
    "y=np.array([[2,3,4],[6,7,8]])"
   ]
  },
  {
   "cell_type": "code",
   "execution_count": 66,
   "id": "41687e14",
   "metadata": {},
   "outputs": [
    {
     "data": {
      "text/plain": [
       "array([[2, 3, 4],\n",
       "       [6, 7, 8]])"
      ]
     },
     "execution_count": 66,
     "metadata": {},
     "output_type": "execute_result"
    }
   ],
   "source": [
    "y"
   ]
  },
  {
   "cell_type": "code",
   "execution_count": 67,
   "id": "5800bb2e",
   "metadata": {},
   "outputs": [
    {
     "data": {
      "text/plain": [
       "2"
      ]
     },
     "execution_count": 67,
     "metadata": {},
     "output_type": "execute_result"
    }
   ],
   "source": [
    "y[0,0]"
   ]
  },
  {
   "cell_type": "code",
   "execution_count": 68,
   "id": "3bad7b9f",
   "metadata": {},
   "outputs": [
    {
     "data": {
      "text/plain": [
       "array([6, 7, 8])"
      ]
     },
     "execution_count": 68,
     "metadata": {},
     "output_type": "execute_result"
    }
   ],
   "source": [
    "y[1]"
   ]
  },
  {
   "cell_type": "code",
   "execution_count": 69,
   "id": "c2f4d254",
   "metadata": {},
   "outputs": [
    {
     "data": {
      "text/plain": [
       "array([[3, 4],\n",
       "       [7, 8]])"
      ]
     },
     "execution_count": 69,
     "metadata": {},
     "output_type": "execute_result"
    }
   ],
   "source": [
    "y[0:2,1:]"
   ]
  },
  {
   "cell_type": "code",
   "execution_count": 70,
   "id": "19da3865",
   "metadata": {},
   "outputs": [
    {
     "data": {
      "text/plain": [
       "array([45, 46, 47, 48, 49])"
      ]
     },
     "execution_count": 70,
     "metadata": {},
     "output_type": "execute_result"
    }
   ],
   "source": [
    "x[x>44]"
   ]
  },
  {
   "cell_type": "code",
   "execution_count": 71,
   "id": "09e18776",
   "metadata": {},
   "outputs": [
    {
     "data": {
      "text/plain": [
       "array([False, False, False, False, False, False, False, False, False,\n",
       "       False, False, False, False, False, False, False, False, False,\n",
       "       False, False, False,  True,  True,  True,  True,  True,  True,\n",
       "        True,  True,  True,  True,  True,  True,  True,  True,  True,\n",
       "        True,  True,  True,  True,  True,  True,  True,  True,  True,\n",
       "        True,  True,  True,  True,  True])"
      ]
     },
     "execution_count": 71,
     "metadata": {},
     "output_type": "execute_result"
    }
   ],
   "source": [
    "x>20"
   ]
  },
  {
   "cell_type": "code",
   "execution_count": 72,
   "id": "497917f3",
   "metadata": {},
   "outputs": [
    {
     "data": {
      "text/plain": [
       "array([ True,  True,  True,  True,  True,  True,  True,  True,  True,\n",
       "        True,  True,  True,  True,  True,  True,  True,  True,  True,\n",
       "        True,  True,  True,  True,  True,  True,  True,  True,  True,\n",
       "        True,  True,  True,  True,  True,  True,  True,  True,  True,\n",
       "        True,  True,  True,  True,  True,  True,  True,  True,  True,\n",
       "        True,  True,  True,  True, False])"
      ]
     },
     "execution_count": 72,
     "metadata": {},
     "output_type": "execute_result"
    }
   ],
   "source": [
    "x<49"
   ]
  },
  {
   "cell_type": "code",
   "execution_count": 73,
   "id": "6cbe2097",
   "metadata": {},
   "outputs": [
    {
     "data": {
      "text/plain": [
       "array([21, 22, 23, 24, 25, 26, 27, 28, 29, 30, 31, 32, 33, 34, 35, 36, 37,\n",
       "       38, 39, 40, 41, 42, 43, 44, 45, 46, 47, 48, 49])"
      ]
     },
     "execution_count": 73,
     "metadata": {},
     "output_type": "execute_result"
    }
   ],
   "source": [
    "i=20\n",
    "x[x>i]"
   ]
  },
  {
   "cell_type": "markdown",
   "id": "dd97e749",
   "metadata": {},
   "source": [
    "## arithmatic operation"
   ]
  },
  {
   "cell_type": "code",
   "execution_count": 74,
   "id": "aa77ec18",
   "metadata": {},
   "outputs": [
    {
     "name": "stderr",
     "output_type": "stream",
     "text": [
      "C:\\Users\\Rahil\\AppData\\Local\\Temp\\ipykernel_15168\\1506400357.py:1: RuntimeWarning: invalid value encountered in true_divide\n",
      "  x/x\n"
     ]
    },
    {
     "data": {
      "text/plain": [
       "array([nan,  1.,  1.,  1.,  1.,  1.,  1.,  1.,  1.,  1.,  1.,  1.,  1.,\n",
       "        1.,  1.,  1.,  1.,  1.,  1.,  1.,  1.,  1.,  1.,  1.,  1.,  1.,\n",
       "        1.,  1.,  1.,  1.,  1.,  1.,  1.,  1.,  1.,  1.,  1.,  1.,  1.,\n",
       "        1.,  1.,  1.,  1.,  1.,  1.,  1.,  1.,  1.,  1.,  1.])"
      ]
     },
     "execution_count": 74,
     "metadata": {},
     "output_type": "execute_result"
    }
   ],
   "source": [
    "x/x"
   ]
  },
  {
   "cell_type": "code",
   "execution_count": 75,
   "id": "b2e05020",
   "metadata": {},
   "outputs": [
    {
     "data": {
      "text/plain": [
       "array([ 0,  2,  4,  6,  8, 10, 12, 14, 16, 18, 20, 22, 24, 26, 28, 30, 32,\n",
       "       34, 36, 38, 40, 42, 44, 46, 48, 50, 52, 54, 56, 58, 60, 62, 64, 66,\n",
       "       68, 70, 72, 74, 76, 78, 80, 82, 84, 86, 88, 90, 92, 94, 96, 98])"
      ]
     },
     "execution_count": 75,
     "metadata": {},
     "output_type": "execute_result"
    }
   ],
   "source": [
    "x+x"
   ]
  },
  {
   "cell_type": "code",
   "execution_count": 76,
   "id": "adadf128",
   "metadata": {},
   "outputs": [
    {
     "data": {
      "text/plain": [
       "array([     0,      1,      8,     27,     64,    125,    216,    343,\n",
       "          512,    729,   1000,   1331,   1728,   2197,   2744,   3375,\n",
       "         4096,   4913,   5832,   6859,   8000,   9261,  10648,  12167,\n",
       "        13824,  15625,  17576,  19683,  21952,  24389,  27000,  29791,\n",
       "        32768,  35937,  39304,  42875,  46656,  50653,  54872,  59319,\n",
       "        64000,  68921,  74088,  79507,  85184,  91125,  97336, 103823,\n",
       "       110592, 117649], dtype=int32)"
      ]
     },
     "execution_count": 76,
     "metadata": {},
     "output_type": "execute_result"
    }
   ],
   "source": [
    "x**3"
   ]
  },
  {
   "cell_type": "code",
   "execution_count": 77,
   "id": "91788a91",
   "metadata": {},
   "outputs": [
    {
     "data": {
      "text/plain": [
       "array([-3, -2, -1,  0,  1,  2,  3,  4,  5,  6,  7,  8,  9, 10, 11, 12, 13,\n",
       "       14, 15, 16, 17, 18, 19, 20, 21, 22, 23, 24, 25, 26, 27, 28, 29, 30,\n",
       "       31, 32, 33, 34, 35, 36, 37, 38, 39, 40, 41, 42, 43, 44, 45, 46])"
      ]
     },
     "execution_count": 77,
     "metadata": {},
     "output_type": "execute_result"
    }
   ],
   "source": [
    "x-3"
   ]
  },
  {
   "cell_type": "code",
   "execution_count": 78,
   "id": "8046c74b",
   "metadata": {},
   "outputs": [
    {
     "data": {
      "text/plain": [
       "array([0.        , 1.        , 1.41421356, 1.73205081, 2.        ,\n",
       "       2.23606798, 2.44948974, 2.64575131, 2.82842712, 3.        ,\n",
       "       3.16227766, 3.31662479, 3.46410162, 3.60555128, 3.74165739,\n",
       "       3.87298335, 4.        , 4.12310563, 4.24264069, 4.35889894,\n",
       "       4.47213595, 4.58257569, 4.69041576, 4.79583152, 4.89897949,\n",
       "       5.        , 5.09901951, 5.19615242, 5.29150262, 5.38516481,\n",
       "       5.47722558, 5.56776436, 5.65685425, 5.74456265, 5.83095189,\n",
       "       5.91607978, 6.        , 6.08276253, 6.164414  , 6.244998  ,\n",
       "       6.32455532, 6.40312424, 6.4807407 , 6.55743852, 6.63324958,\n",
       "       6.70820393, 6.78232998, 6.8556546 , 6.92820323, 7.        ])"
      ]
     },
     "execution_count": 78,
     "metadata": {},
     "output_type": "execute_result"
    }
   ],
   "source": [
    "np.sqrt(x)"
   ]
  },
  {
   "cell_type": "code",
   "execution_count": 79,
   "id": "fa412363",
   "metadata": {},
   "outputs": [
    {
     "name": "stderr",
     "output_type": "stream",
     "text": [
      "C:\\Users\\Rahil\\AppData\\Local\\Temp\\ipykernel_15168\\1277889159.py:1: RuntimeWarning: divide by zero encountered in log\n",
      "  np.log(x)\n"
     ]
    },
    {
     "data": {
      "text/plain": [
       "array([      -inf, 0.        , 0.69314718, 1.09861229, 1.38629436,\n",
       "       1.60943791, 1.79175947, 1.94591015, 2.07944154, 2.19722458,\n",
       "       2.30258509, 2.39789527, 2.48490665, 2.56494936, 2.63905733,\n",
       "       2.7080502 , 2.77258872, 2.83321334, 2.89037176, 2.94443898,\n",
       "       2.99573227, 3.04452244, 3.09104245, 3.13549422, 3.17805383,\n",
       "       3.21887582, 3.25809654, 3.29583687, 3.33220451, 3.36729583,\n",
       "       3.40119738, 3.4339872 , 3.4657359 , 3.49650756, 3.52636052,\n",
       "       3.55534806, 3.58351894, 3.61091791, 3.63758616, 3.66356165,\n",
       "       3.68887945, 3.71357207, 3.73766962, 3.76120012, 3.78418963,\n",
       "       3.80666249, 3.8286414 , 3.8501476 , 3.87120101, 3.8918203 ])"
      ]
     },
     "execution_count": 79,
     "metadata": {},
     "output_type": "execute_result"
    }
   ],
   "source": [
    "np.log(x)"
   ]
  },
  {
   "cell_type": "code",
   "execution_count": 80,
   "id": "6ee760ab",
   "metadata": {},
   "outputs": [
    {
     "data": {
      "text/plain": [
       "array([[ 0.90929743,  0.14112001, -0.7568025 ],\n",
       "       [-0.2794155 ,  0.6569866 ,  0.98935825]])"
      ]
     },
     "execution_count": 80,
     "metadata": {},
     "output_type": "execute_result"
    }
   ],
   "source": [
    "np.sin(y)"
   ]
  },
  {
   "cell_type": "code",
   "execution_count": 81,
   "id": "ead09d22",
   "metadata": {},
   "outputs": [
    {
     "data": {
      "text/plain": [
       "2"
      ]
     },
     "execution_count": 81,
     "metadata": {},
     "output_type": "execute_result"
    }
   ],
   "source": [
    "np.min(y)"
   ]
  },
  {
   "cell_type": "markdown",
   "id": "69d0f744",
   "metadata": {},
   "source": [
    "# format mathod {}\n"
   ]
  },
  {
   "cell_type": "code",
   "execution_count": null,
   "id": "9d10ff0a",
   "metadata": {},
   "outputs": [],
   "source": [
    "#40<fail\n",
    "#60> and <=75 pass\n",
    "#75>and <=90 first class\n",
    "#90> distinction"
   ]
  },
  {
   "cell_type": "code",
   "execution_count": 10,
   "id": "bcff28eb",
   "metadata": {},
   "outputs": [
    {
     "name": "stdout",
     "output_type": "stream",
     "text": [
      "Rahil got 78% ,he is Fail\n",
      "Yash got 50% ,he is Pass\n",
      "Raj got 45% ,he is First Class\n",
      "mayur got 90% ,he is Distinction\n"
     ]
    }
   ],
   "source": [
    "name=[\"Rahil\",\"Yash\",\"Raj\",\"mayur\",\"Suraj\",\"Tejas\"]\n",
    "marks=[78,50,45,90,69,96]\n",
    "grade=[\"Fail\",\"Pass\",\"First Class\",\"Distinction\"]\n",
    "for i in range(0 ,len(grade)):\n",
    "        if marks[i]>40:\n",
    "            print(\"{0} got {1}% ,he is {2}\".format(name[i],marks[i],grade[i]))\n",
    "        elif marks[i]>60 and marks[i]<=75:\n",
    "            print(\"{0} got {1}% ,he is {2}\".format(name[i],marks[i],grade[i]))\n",
    "        elif marks[i]>75 and marks[i]<=90:\n",
    "            print(\"{0} got {1}% ,he is {2}\".format(name[i],marks[i],grade[i]))\n",
    "        elif marks[i]>90:\n",
    "            print(\"{0} got {1}% ,he is {2}\".format(name[i],marks[i],grade[i]))"
   ]
  },
  {
   "cell_type": "code",
   "execution_count": null,
   "id": "17158422",
   "metadata": {},
   "outputs": [],
   "source": []
  }
 ],
 "metadata": {
  "kernelspec": {
   "display_name": "Python 3 (ipykernel)",
   "language": "python",
   "name": "python3"
  },
  "language_info": {
   "codemirror_mode": {
    "name": "ipython",
    "version": 3
   },
   "file_extension": ".py",
   "mimetype": "text/x-python",
   "name": "python",
   "nbconvert_exporter": "python",
   "pygments_lexer": "ipython3",
   "version": "3.9.13"
  }
 },
 "nbformat": 4,
 "nbformat_minor": 5
}
